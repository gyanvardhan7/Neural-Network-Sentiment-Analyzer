{
 "cells": [
  {
   "cell_type": "code",
   "execution_count": 17,
   "metadata": {
    "collapsed": true
   },
   "outputs": [],
   "source": [
    "import tensorflow as tf\n",
    "import numpy as np\n",
    "from Text_Preprocessing import create_feature_sets_and_labels\n"
   ]
  },
  {
   "cell_type": "code",
   "execution_count": 18,
   "metadata": {},
   "outputs": [],
   "source": [
    "train_x,train_y,test_x,test_y = create_feature_sets_and_labels('pos.txt','neg.txt')\n",
    "\n",
    "#Number of nodes for hiddenlayers 1,2,3\n",
    "n_nodes_hl1 = 500  \n",
    "n_nodes_hl2 = 500  \n",
    "n_nodes_hl3 = 500\n",
    "\n",
    "#Number of classes\n",
    "n_classes = 2\n",
    "\n",
    "#Batch Size- Number of images in a batch \n",
    "batch_size = 100\n",
    "\n",
    "'''\n",
    "PlaceHolders for the data\n",
    "\n",
    "x is our data i.e. the 28x28 image\n",
    "It has been resized as 1*784 vector\n",
    "\n",
    "y is the label for the x\n",
    "'''\n",
    "x = tf.placeholder('float',[None,len(train_x[0])])\n",
    "y = tf.placeholder('float')\n",
    "\n",
    "\n"
   ]
  },
  {
   "cell_type": "code",
   "execution_count": 19,
   "metadata": {
    "collapsed": true
   },
   "outputs": [],
   "source": [
    "def neural_network_model(data):\n",
    "    \n",
    "    '''\n",
    "    Model : input_data * weights + biases\n",
    "    '''\n",
    "    \n",
    "    hidden_1_layer = {'weights':tf.Variable(tf.random_normal([len(train_X[0]),n_nodes_hl1])),\n",
    "                      'biases':tf.Variable(tf.random_normal([n_nodes_hl1]))}\n",
    "    \n",
    "    hidden_2_layer = {'weights':tf.Variable(tf.random_normal([n_nodes_hl1,n_nodes_hl2])),\n",
    "                      'biases':tf.Variable(tf.random_normal([n_nodes_hl2]))}\n",
    "    \n",
    "    hidden_3_layer = {'weights':tf.Variable(tf.random_normal([n_nodes_hl2,n_nodes_hl3])),\n",
    "                      'biases':tf.Variable(tf.random_normal([n_nodes_hl3]))}\n",
    "    \n",
    "    output_layer = {'weights':tf.Variable(tf.random_normal([n_nodes_hl3,n_classes])),\n",
    "                      'biases':tf.Variable(tf.random_normal([n_classes]))}\n",
    "    \n",
    "    \n",
    "    l1 = tf.add(tf.matmul(data,hidden_1_layer['weights']),hidden_1_layer['biases'])\n",
    "    #activation function\n",
    "    l1 = tf.nn.relu(l1)\n",
    "    \n",
    "    l2 = tf.add(tf.matmul(l1,hidden_2_layer['weights']),hidden_2_layer['biases'])\n",
    "    #activation function\n",
    "    l2 = tf.nn.relu(l2)\n",
    "    \n",
    "    l3 = tf.add(tf.matmul(l2,hidden_3_layer['weights']),hidden_3_layer['biases'])\n",
    "    #activation function\n",
    "    l3 = tf.nn.relu(l3)\n",
    "    \n",
    "    output = tf.matmul(l3,output_layer['weights']) + output_layer['biases']\n",
    "    \n",
    "    return output\n",
    " "
   ]
  },
  {
   "cell_type": "code",
   "execution_count": 20,
   "metadata": {
    "collapsed": true
   },
   "outputs": [],
   "source": [
    "def train_neural_network(x,y):\n",
    "    prediction = neural_network_model(x)\n",
    "    cost = tf.reduce_mean(tf.nn.softmax_cross_entropy_with_logits_v2(logits=prediction,labels=y))\n",
    "    \n",
    "    optimizer = tf.train.AdamOptimizer().minimize(cost)\n",
    "    \n",
    "    \n",
    "    '''\n",
    "    epochs = cycles feed forward + backpropagation\n",
    "    Number of epochs we want\n",
    "    ''' \n",
    "    n_epochs = 10\n",
    "    \n",
    "    \n",
    "    \n",
    "    '''\n",
    "    Training the network\n",
    "    '''\n",
    "    \n",
    "    with tf.Session() as sess:\n",
    "        \n",
    "        sess.run(tf.initialize_all_variables())\n",
    "        \n",
    "        for epoch in range(n_epochs):\n",
    "            \n",
    "            epoch_loss = 0\n",
    "            \n",
    "            i=0\n",
    "            while i < len(train_x):\n",
    "                \n",
    "                start = i\n",
    "                end = i+batch_size\n",
    "                \n",
    "                batch_x = np.array(train_x[start:end])\n",
    "                batch_y = np.array(train_y[start:end])\n",
    "\n",
    "               \n",
    "                _, c = sess.run([optimizer,cost],feed_dict = {x:batch_x,y:batch_y})\n",
    "                epoch_loss += c\n",
    "                \n",
    "                i += batch_size\n",
    "                \n",
    "            print('Epoch ',epoch+1,' Completed  out of ',n_epochs,' loss: ',epoch_loss)\n",
    "            \n",
    "        \n",
    "        \n",
    "        \n",
    "        \n",
    "        '''\n",
    "        Testing the data\n",
    "        '''\n",
    "        correct = tf.equal(tf.argmax(prediction,1),tf.argmax(y,1))\n",
    "        \n",
    "        accuracy = tf.reduce_mean(tf.cast(correct,'float'))\n",
    "        \n",
    "        print('Accuracy : ',accuracy.eval({x:test_x,y:test_y}))\n",
    "                "
   ]
  },
  {
   "cell_type": "code",
   "execution_count": 21,
   "metadata": {},
   "outputs": [
    {
     "name": "stdout",
     "output_type": "stream",
     "text": [
      "Epoch  1  Completed  out of  10  loss:  275009.18396\n",
      "Epoch  2  Completed  out of  10  loss:  127970.313782\n",
      "Epoch  3  Completed  out of  10  loss:  73454.1886597\n",
      "Epoch  4  Completed  out of  10  loss:  44198.0840607\n",
      "Epoch  5  Completed  out of  10  loss:  36636.0869446\n",
      "Epoch  6  Completed  out of  10  loss:  28256.3104477\n",
      "Epoch  7  Completed  out of  10  loss:  24893.073349\n",
      "Epoch  8  Completed  out of  10  loss:  24449.8214664\n",
      "Epoch  9  Completed  out of  10  loss:  11293.722496\n",
      "Epoch  10  Completed  out of  10  loss:  3526.44264614\n",
      "Accuracy :  0.594747\n"
     ]
    }
   ],
   "source": [
    "train_neural_network(x,y)"
   ]
  },
  {
   "cell_type": "code",
   "execution_count": null,
   "metadata": {
    "collapsed": true
   },
   "outputs": [],
   "source": []
  }
 ],
 "metadata": {
  "kernelspec": {
   "display_name": "Python 3",
   "language": "python",
   "name": "python3"
  },
  "language_info": {
   "codemirror_mode": {
    "name": "ipython",
    "version": 3
   },
   "file_extension": ".py",
   "mimetype": "text/x-python",
   "name": "python",
   "nbconvert_exporter": "python",
   "pygments_lexer": "ipython3",
   "version": "3.6.3"
  }
 },
 "nbformat": 4,
 "nbformat_minor": 2
}
